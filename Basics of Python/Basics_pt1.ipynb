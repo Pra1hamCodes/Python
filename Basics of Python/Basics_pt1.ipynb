{
 "cells": [
  {
   "cell_type": "markdown",
   "metadata": {
    "id": "qlG4NcT39gS8"
   },
   "source": [
    "BASICS OF PYTHON\n",
    "\n",
    "> Variables, Return values, Functions, Strings, side effects\n",
    "\n",
    "\n",
    "\n"
   ]
  },
  {
   "cell_type": "code",
   "execution_count": 15,
   "metadata": {
    "colab": {
     "base_uri": "https://localhost:8080/"
    },
    "executionInfo": {
     "elapsed": 11,
     "status": "ok",
     "timestamp": 1750004423575,
     "user": {
      "displayName": "Prathmesh Pandey",
      "userId": "09629498409100962573"
     },
     "user_tz": -330
    },
    "id": "t1sk655grQ3N",
    "outputId": "1631da21-d874-43a9-c46f-923cd75049fe"
   },
   "outputs": [
    {
     "name": "stdout",
     "output_type": "stream",
     "text": [
      "hello world\n"
     ]
    }
   ],
   "source": [
    "print ('hello world')\n",
    "#this is a comment"
   ]
  },
  {
   "cell_type": "code",
   "execution_count": 14,
   "metadata": {
    "colab": {
     "base_uri": "https://localhost:8080/"
    },
    "executionInfo": {
     "elapsed": 7814,
     "status": "ok",
     "timestamp": 1750004433209,
     "user": {
      "displayName": "Prathmesh Pandey",
      "userId": "09629498409100962573"
     },
     "user_tz": -330
    },
    "id": "umCwf5L8w0CQ",
    "outputId": "f8c992ae-9705-4ebe-cb0a-ace2457a554f"
   },
   "outputs": [
    {
     "name": "stdout",
     "output_type": "stream",
     "text": [
      "give me your name \n",
      "fast\n",
      "hello \n"
     ]
    }
   ],
   "source": [
    "x=input(\"what's your name?\").strip().title()\n",
    "print(\"give me your name \\nfast\")\n",
    "print(\"hello\", x)"
   ]
  },
  {
   "cell_type": "code",
   "execution_count": 13,
   "metadata": {
    "colab": {
     "base_uri": "https://localhost:8080/"
    },
    "executionInfo": {
     "elapsed": 19,
     "status": "ok",
     "timestamp": 1750004435119,
     "user": {
      "displayName": "Prathmesh Pandey",
      "userId": "09629498409100962573"
     },
     "user_tz": -330
    },
    "id": "XooWjnnp3Wq_",
    "outputId": "2c0d0848-7169-4abf-b24f-230e563d9ad6"
   },
   "outputs": [
    {
     "ename": "ValueError",
     "evalue": "not enough values to unpack (expected 2, got 1)",
     "output_type": "error",
     "traceback": [
      "\u001b[31m---------------------------------------------------------------------------\u001b[39m",
      "\u001b[31mValueError\u001b[39m                                Traceback (most recent call last)",
      "\u001b[36mCell\u001b[39m\u001b[36m \u001b[39m\u001b[32mIn[13]\u001b[39m\u001b[32m, line 3\u001b[39m\n\u001b[32m      1\u001b[39m \u001b[38;5;66;03m#x= x.strip().title()\u001b[39;00m\n\u001b[32m      2\u001b[39m \u001b[38;5;66;03m#x=x.capitalize()\u001b[39;00m\n\u001b[32m----> \u001b[39m\u001b[32m3\u001b[39m first, last=x.split(\u001b[33m\"\u001b[39m\u001b[33m \u001b[39m\u001b[33m\"\u001b[39m)\n\u001b[32m      4\u001b[39m \u001b[38;5;28mprint\u001b[39m(first)\n\u001b[32m      5\u001b[39m \u001b[38;5;28mprint\u001b[39m(last)\n",
      "\u001b[31mValueError\u001b[39m: not enough values to unpack (expected 2, got 1)"
     ]
    }
   ],
   "source": [
    "#x= x.strip().title()\n",
    "#x=x.capitalize()\n",
    "first, last=x.split(\" \")\n",
    "print(first)\n",
    "print(last)\n",
    "print(x)"
   ]
  },
  {
   "cell_type": "code",
   "execution_count": null,
   "metadata": {
    "colab": {
     "base_uri": "https://localhost:8080/"
    },
    "executionInfo": {
     "elapsed": 3824,
     "status": "ok",
     "timestamp": 1750183510038,
     "user": {
      "displayName": "Prathmesh Pandey",
      "userId": "09629498409100962573"
     },
     "user_tz": -330
    },
    "id": "EmN2-wZN--2Z",
    "outputId": "560d8f89-4ea0-4816-e7dc-c212c510ab26"
   },
   "outputs": [
    {
     "name": "stdout",
     "output_type": "stream",
     "text": [
      "WHAT IS X 45\n",
      "WHAT IS Y 15\n",
      "60\n",
      "4515\n"
     ]
    }
   ],
   "source": [
    "x=input(\"WHAT IS X \")\n",
    "y=input(\"WHAT IS Y \")\n",
    "z=int(x)+int(y)\n",
    "w= x+y\n",
    "print(z)\n",
    "print(w)"
   ]
  },
  {
   "cell_type": "code",
   "execution_count": null,
   "metadata": {
    "colab": {
     "base_uri": "https://localhost:8080/"
    },
    "executionInfo": {
     "elapsed": 9152,
     "status": "ok",
     "timestamp": 1750267576961,
     "user": {
      "displayName": "Prathmesh Pandey",
      "userId": "09629498409100962573"
     },
     "user_tz": -330
    },
    "id": "X8OSiS_1ELuS",
    "outputId": "610a729f-bccc-454d-8439-3b8dd1f4e7c9"
   },
   "outputs": [
    {
     "name": "stdout",
     "output_type": "stream",
     "text": [
      "WHAT IS A 34.32\n",
      "WHAT IS B 13.63\n",
      "47.95\n",
      "48\n",
      "34.3213.63\n"
     ]
    }
   ],
   "source": [
    "a=input(\"WHAT IS A \")\n",
    "b=input(\"WHAT IS B \")\n",
    "h=float(a)+float(b)\n",
    "i=a+b\n",
    "print(h)\n",
    "j=round(h)\n",
    "print(j)\n",
    "print(i)"
   ]
  },
  {
   "cell_type": "code",
   "execution_count": null,
   "metadata": {
    "colab": {
     "base_uri": "https://localhost:8080/"
    },
    "executionInfo": {
     "elapsed": 41876,
     "status": "ok",
     "timestamp": 1750267985527,
     "user": {
      "displayName": "Prathmesh Pandey",
      "userId": "09629498409100962573"
     },
     "user_tz": -330
    },
    "id": "erIGeEMjFPQ8",
    "outputId": "27e48586-fb25-44b7-e7d6-af4938e854b2"
   },
   "outputs": [
    {
     "name": "stdout",
     "output_type": "stream",
     "text": [
      "what's your name?blake zenin\n",
      "hello\n",
      "Blake Zenin\n"
     ]
    }
   ],
   "source": [
    "def hello():\n",
    "  print(\"hello\")\n",
    "\n",
    "name=input(\"what's your name?\").strip().title()\n",
    "hello()\n",
    "print(name)"
   ]
  },
  {
   "cell_type": "code",
   "execution_count": null,
   "metadata": {
    "colab": {
     "base_uri": "https://localhost:8080/"
    },
    "executionInfo": {
     "elapsed": 14,
     "status": "ok",
     "timestamp": 1750353321863,
     "user": {
      "displayName": "Prathmesh Pandey",
      "userId": "09629498409100962573"
     },
     "user_tz": -330
    },
    "id": "u-aBEYuhLjOA",
    "outputId": "c3bc4361-4f01-422e-855c-3d5a57e0c141"
   },
   "outputs": [
    {
     "name": "stdout",
     "output_type": "stream",
     "text": [
      "hello Blake Zenin\n",
      "hello world\n",
      "None\n"
     ]
    }
   ],
   "source": [
    "def hello(to):\n",
    "  print(\"hello\",to)\n",
    "\n",
    "def hello1(too=\"world\"):\n",
    "  print(\"hello\",too)\n",
    "\n",
    "hello(name)\n",
    "print(hello1())"
   ]
  },
  {
   "cell_type": "code",
   "execution_count": null,
   "metadata": {
    "colab": {
     "base_uri": "https://localhost:8080/"
    },
    "executionInfo": {
     "elapsed": 3799,
     "status": "ok",
     "timestamp": 1750355774117,
     "user": {
      "displayName": "Prathmesh Pandey",
      "userId": "09629498409100962573"
     },
     "user_tz": -330
    },
    "id": "pll2bgsmU9Ls",
    "outputId": "728eb5b6-62dc-48ce-963b-e463e2487a32"
   },
   "outputs": [
    {
     "name": "stdout",
     "output_type": "stream",
     "text": [
      "what is x9\n",
      "x squared is 81\n"
     ]
    }
   ],
   "source": [
    "def main():\n",
    "  x =int (input(\"what is x\"))\n",
    "  print(\"x squared is\",square(x))\n",
    "\n",
    "\n",
    "def square(n):\n",
    "  return n*n\n",
    "\n",
    "main()"
   ]
  },
  {
   "cell_type": "code",
   "execution_count": null,
   "metadata": {
    "colab": {
     "base_uri": "https://localhost:8080/"
    },
    "executionInfo": {
     "elapsed": 6718,
     "status": "ok",
     "timestamp": 1750433897829,
     "user": {
      "displayName": "Prathmesh Pandey",
      "userId": "09629498409100962573"
     },
     "user_tz": -330
    },
    "id": "Dzf0gfcq-WmQ",
    "outputId": "64a6022f-8796-4285-eae9-7729f08161d7"
   },
   "outputs": [
    {
     "name": "stdout",
     "output_type": "stream",
     "text": [
      "enter a guess50\n",
      "you lost\n",
      "enter a guess50\n",
      "50\n"
     ]
    }
   ],
   "source": [
    "def get_guess():\n",
    "  guess = input(\"enter a guess\");\n",
    "  return guess\n",
    "\n",
    "\n",
    "def main():\n",
    "  guess = get_guess()\n",
    "  if guess==50:\n",
    "      print(\"you won\")\n",
    "  else:\n",
    "      print(\"you lost\")\n",
    "\n",
    "main()\n",
    "print(get_guess())"
   ]
  },
  {
   "cell_type": "code",
   "execution_count": null,
   "metadata": {
    "colab": {
     "base_uri": "https://localhost:8080/"
    },
    "executionInfo": {
     "elapsed": 17,
     "status": "ok",
     "timestamp": 1750444192013,
     "user": {
      "displayName": "Prathmesh Pandey",
      "userId": "09629498409100962573"
     },
     "user_tz": -330
    },
    "id": "bC2GHybqBKoH",
    "outputId": "7244d6e3-4f47-4908-d5b5-b74ca467b799"
   },
   "outputs": [
    {
     "name": "stdout",
     "output_type": "stream",
     "text": [
      "hello,there pratham\n"
     ]
    }
   ],
   "source": [
    "def greet(input):\n",
    "  if \"hello\" in input:\n",
    "    return \"hello,there\"\n",
    "  else :\n",
    "    return \"idk what you said\"\n",
    "\n",
    "\n",
    "greeting=greet(\"hello,computer\")\n",
    "print(greeting,\"pratham\")"
   ]
  },
  {
   "cell_type": "code",
   "execution_count": null,
   "metadata": {
    "colab": {
     "base_uri": "https://localhost:8080/"
    },
    "executionInfo": {
     "elapsed": 18,
     "status": "ok",
     "timestamp": 1750444597026,
     "user": {
      "displayName": "Prathmesh Pandey",
      "userId": "09629498409100962573"
     },
     "user_tz": -330
    },
    "id": "I3XuDu5Fmr2n",
    "outputId": "5ea0629a-4bc0-4dd4-de5d-55dafbda455d"
   },
   "outputs": [
    {
     "name": "stdout",
     "output_type": "stream",
     "text": [
      "is anyone there?^.^\n",
      "oh,hi!!:D\n"
     ]
    }
   ],
   "source": [
    "emoticon = \"^.^\"\n",
    "\n",
    "def main():\n",
    "    global emoticon\n",
    "    say(\"is anyone there?\")\n",
    "    emoticon = \":D\"\n",
    "    say(\"oh,hi!!\")\n",
    "\n",
    "def say(phrase):\n",
    "    print(phrase + \"\"+ emoticon)\n",
    "\n",
    "main()\n"
   ]
  },
  {
   "cell_type": "code",
   "execution_count": null,
   "metadata": {
    "colab": {
     "base_uri": "https://localhost:8080/"
    },
    "executionInfo": {
     "elapsed": 6114,
     "status": "ok",
     "timestamp": 1750496634357,
     "user": {
      "displayName": "Prathmesh Pandey",
      "userId": "09629498409100962573"
     },
     "user_tz": -330
    },
    "id": "J-ceBxYgoVBj",
    "outputId": "5ab20494-551a-44d4-b6ad-83f0a97446b4"
   },
   "outputs": [
    {
     "name": "stdout",
     "output_type": "stream",
     "text": [
      "how much was your order?\n",
      "50\n",
      "how much percent you wanna tip?\n",
      "15\n",
      "your tip is 7.5\n"
     ]
    }
   ],
   "source": [
    "def tip(x):\n",
    "    print(\"how much percent you wanna tip?\")\n",
    "    perecnt=int(input())\n",
    "\n",
    "    tip= x*perecnt/100\n",
    "    return tip\n",
    "\n",
    "def main():\n",
    "     print(\"how much was your order?\")\n",
    "     order=int(input())\n",
    "     print(\"your tip is\",tip(order))\n",
    "\n",
    "main()\n",
    "\n"
   ]
  },
  {
   "cell_type": "code",
   "execution_count": null,
   "metadata": {
    "id": "iOVcoc4XvaZ_"
   },
   "outputs": [],
   "source": []
  }
 ],
 "metadata": {
  "colab": {
   "authorship_tag": "ABX9TyNg8oq/CSZUekd9jtyrEBaa",
   "provenance": []
  },
  "kernelspec": {
   "display_name": "Python 3",
   "name": "python3"
  },
  "language_info": {
   "codemirror_mode": {
    "name": "ipython",
    "version": 3
   },
   "file_extension": ".py",
   "mimetype": "text/x-python",
   "name": "python",
   "nbconvert_exporter": "python",
   "pygments_lexer": "ipython3",
   "version": "3.13.5"
  }
 },
 "nbformat": 4,
 "nbformat_minor": 0
}
