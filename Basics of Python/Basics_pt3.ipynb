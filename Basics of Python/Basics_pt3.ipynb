{
 "cells": [
  {
   "cell_type": "markdown",
   "metadata": {
    "id": "pbTenotU1kjs"
   },
   "source": [
    "BASICS OF PYTHON\n",
    "\n",
    "> Loops ,Dictionaries ,Lists ,tuples\n",
    "\n"
   ]
  },
  {
   "cell_type": "code",
   "execution_count": null,
   "metadata": {
    "colab": {
     "base_uri": "https://localhost:8080/"
    },
    "executionInfo": {
     "elapsed": 23,
     "status": "ok",
     "timestamp": 1750701008840,
     "user": {
      "displayName": "Prathmesh Pandey",
      "userId": "09629498409100962573"
     },
     "user_tz": -330
    },
    "id": "FhR2E2df19OG",
    "outputId": "6930dc71-3a97-4e80-b55e-d2c6e72c2f95"
   },
   "outputs": [
    {
     "name": "stdout",
     "output_type": "stream",
     "text": [
      "meow\n",
      "meow\n",
      "meow\n"
     ]
    }
   ],
   "source": [
    "i = 1\n",
    "while i <= 3:\n",
    "     print(\"meow\")\n",
    "     i=i+1"
   ]
  },
  {
   "cell_type": "code",
   "execution_count": null,
   "metadata": {
    "colab": {
     "base_uri": "https://localhost:8080/"
    },
    "executionInfo": {
     "elapsed": 44,
     "status": "ok",
     "timestamp": 1750701084771,
     "user": {
      "displayName": "Prathmesh Pandey",
      "userId": "09629498409100962573"
     },
     "user_tz": -330
    },
    "id": "6DedUThx6asA",
    "outputId": "74c5c16d-86a1-4198-955a-5a57c889d937"
   },
   "outputs": [
    {
     "name": "stdout",
     "output_type": "stream",
     "text": [
      "meow\n",
      "meow\n",
      "meow\n"
     ]
    }
   ],
   "source": [
    "for i in range(3):\n",
    "  print(\"meow\")"
   ]
  },
  {
   "cell_type": "code",
   "execution_count": null,
   "metadata": {
    "colab": {
     "base_uri": "https://localhost:8080/"
    },
    "executionInfo": {
     "elapsed": 2958,
     "status": "ok",
     "timestamp": 1750701681519,
     "user": {
      "displayName": "Prathmesh Pandey",
      "userId": "09629498409100962573"
     },
     "user_tz": -330
    },
    "id": "HBv151MB8tGQ",
    "outputId": "d2415dae-6801-4c32-f4f1-4e259ce1cdd0"
   },
   "outputs": [
    {
     "name": "stdout",
     "output_type": "stream",
     "text": [
      "what is n?5\n",
      "meow\n",
      "meow\n",
      "meow\n",
      "meow\n",
      "meow\n"
     ]
    }
   ],
   "source": [
    "n= int(input(\"what is n?\"))\n",
    "for i in range(n):\n",
    "  print(\"meow\")"
   ]
  },
  {
   "cell_type": "code",
   "execution_count": null,
   "metadata": {
    "colab": {
     "base_uri": "https://localhost:8080/"
    },
    "executionInfo": {
     "elapsed": 24898,
     "status": "ok",
     "timestamp": 1750701784983,
     "user": {
      "displayName": "Prathmesh Pandey",
      "userId": "09629498409100962573"
     },
     "user_tz": -330
    },
    "id": "0JK7AIFi87Ti",
    "outputId": "72718dbb-211d-46d0-c885-cd4606a1beec"
   },
   "outputs": [
    {
     "name": "stdout",
     "output_type": "stream",
     "text": [
      "what is n?7\n",
      "meow\n",
      "meow\n",
      "meow\n",
      "meow\n",
      "meow\n",
      "meow\n",
      "meow\n"
     ]
    }
   ],
   "source": [
    "while True:\n",
    "  n=int(input(\"what is n?\"))\n",
    "  if n>70:\n",
    "    break\n",
    "for i in range(n):\n",
    "  print(\"meow\")"
   ]
  },
  {
   "cell_type": "code",
   "execution_count": null,
   "metadata": {
    "colab": {
     "base_uri": "https://localhost:8080/"
    },
    "executionInfo": {
     "elapsed": 1233,
     "status": "ok",
     "timestamp": 1750702065560,
     "user": {
      "displayName": "Prathmesh Pandey",
      "userId": "09629498409100962573"
     },
     "user_tz": -330
    },
    "id": "Tcodztc99hjF",
    "outputId": "a01a8ef4-3de5-4ae6-e021-2b72577d7797"
   },
   "outputs": [
    {
     "name": "stdout",
     "output_type": "stream",
     "text": [
      "what is n?7\n",
      "meow\n",
      "meow\n",
      "meow\n",
      "meow\n",
      "meow\n",
      "meow\n",
      "meow\n"
     ]
    }
   ],
   "source": [
    "def main():\n",
    "  number = get_number()\n",
    "  meow(number)\n",
    "\n",
    "def get_number():\n",
    "  while True:\n",
    "    n=int(input(\"what is n?\"))\n",
    "    if n>0:\n",
    "      break\n",
    "  return n\n",
    "\n",
    "def meow(n):\n",
    "  for i in range(n):\n",
    "    print(\"meow\")\n",
    "\n",
    "main()"
   ]
  },
  {
   "cell_type": "code",
   "execution_count": null,
   "metadata": {
    "colab": {
     "base_uri": "https://localhost:8080/"
    },
    "executionInfo": {
     "elapsed": 15,
     "status": "ok",
     "timestamp": 1750780045110,
     "user": {
      "displayName": "Prathmesh Pandey",
      "userId": "09629498409100962573"
     },
     "user_tz": -330
    },
    "id": "RltCk3tf-bPL",
    "outputId": "3c2d953b-7ef0-4067-e14b-5c94f037038a"
   },
   "outputs": [
    {
     "name": "stdout",
     "output_type": "stream",
     "text": [
      "0\n",
      "1\n",
      "2\n"
     ]
    }
   ],
   "source": [
    "students = [\"Jesse\",\"walter\",\"tuco\"]\n",
    "for student in range(len(students)):\n",
    "  print(student)"
   ]
  },
  {
   "cell_type": "code",
   "execution_count": null,
   "metadata": {
    "colab": {
     "base_uri": "https://localhost:8080/"
    },
    "executionInfo": {
     "elapsed": 19,
     "status": "ok",
     "timestamp": 1750780078159,
     "user": {
      "displayName": "Prathmesh Pandey",
      "userId": "09629498409100962573"
     },
     "user_tz": -330
    },
    "id": "GFNeJkOJn4Wb",
    "outputId": "01d84b65-e0aa-4d76-b7f8-7ad84360e59f"
   },
   "outputs": [
    {
     "name": "stdout",
     "output_type": "stream",
     "text": [
      "Jesse\n",
      "walter\n",
      "tuco\n"
     ]
    }
   ],
   "source": [
    "students = [\"Jesse\",\"walter\",\"tuco\"]\n",
    "for student in students:\n",
    "  print(student)"
   ]
  },
  {
   "cell_type": "code",
   "execution_count": null,
   "metadata": {
    "colab": {
     "base_uri": "https://localhost:8080/"
    },
    "executionInfo": {
     "elapsed": 20,
     "status": "ok",
     "timestamp": 1750780879988,
     "user": {
      "displayName": "Prathmesh Pandey",
      "userId": "09629498409100962573"
     },
     "user_tz": -330
    },
    "id": "jftjLGCRoQfA",
    "outputId": "4ad4e65d-d5db-473b-c81e-9dc7b451861e"
   },
   "outputs": [
    {
     "name": "stdout",
     "output_type": "stream",
     "text": [
      "Walter White\n",
      "Walter White,The Cook\n",
      "Jesse Pinkman\n",
      "Jesse Pinkman,The Assistant Cook\n",
      "Tuco Salamanca\n",
      "Tuco Salamanca,The Dealer\n"
     ]
    }
   ],
   "source": [
    "students = {\"Walter White\":\"The Cook\",\"Jesse Pinkman\":\"The Assistant Cook\",\"Tuco Salamanca\":\"The Dealer\"}\n",
    "for student in students:\n",
    "  print(student)\n",
    "  print(student,students[student],sep=\",\")"
   ]
  },
  {
   "cell_type": "code",
   "execution_count": null,
   "metadata": {
    "colab": {
     "base_uri": "https://localhost:8080/"
    },
    "executionInfo": {
     "elapsed": 61,
     "status": "ok",
     "timestamp": 1750781218067,
     "user": {
      "displayName": "Prathmesh Pandey",
      "userId": "09629498409100962573"
     },
     "user_tz": -330
    },
    "id": "qpKtd0iKrQZS",
    "outputId": "58264448-e3cc-4506-ed79-8bc6b693ae88"
   },
   "outputs": [
    {
     "name": "stdout",
     "output_type": "stream",
     "text": [
      "Walter White,The Cook,Heisenberg\n",
      "Jesse Pinkman,The Assistant Cook,Junkie\n",
      "Tuco Salamanca,The Dealer,The Drug Lord\n"
     ]
    }
   ],
   "source": [
    "students =[\n",
    "    {\"name\":\"Walter White\",\"role\":\"The Cook\",\"AKA\":\"Heisenberg\"},\n",
    "    {\"name\":\"Jesse Pinkman\",\"role\":\"The Assistant Cook\",\"AKA\":\"Junkie\"},\n",
    "    {\"name\":\"Tuco Salamanca\",\"role\":\"The Dealer\",\"AKA\":\"The Drug Lord\"}\n",
    "]\n",
    "for student in students:\n",
    "  print(student[\"name\"],student[\"role\"],student[\"AKA\"],sep=\",\")"
   ]
  },
  {
   "cell_type": "code",
   "execution_count": null,
   "metadata": {
    "colab": {
     "base_uri": "https://localhost:8080/"
    },
    "executionInfo": {
     "elapsed": 11,
     "status": "ok",
     "timestamp": 1750782479685,
     "user": {
      "displayName": "Prathmesh Pandey",
      "userId": "09629498409100962573"
     },
     "user_tz": -330
    },
    "id": "_1yzX-h4wQDk",
    "outputId": "2226610a-640c-40bc-e4f2-31f85d414534"
   },
   "outputs": [
    {
     "name": "stdout",
     "output_type": "stream",
     "text": [
      "####\n",
      "####\n",
      "####\n",
      "####\n"
     ]
    }
   ],
   "source": [
    "def main():\n",
    "  print_squares(4)\n",
    "\n",
    "\n",
    "def print_squares(size):\n",
    "    for i in range(size):\n",
    "      for j in range(size):\n",
    "        print('#',end=\"\")\n",
    "      print()\n",
    "\n",
    "main()"
   ]
  },
  {
   "cell_type": "code",
   "execution_count": null,
   "metadata": {
    "colab": {
     "base_uri": "https://localhost:8080/"
    },
    "executionInfo": {
     "elapsed": 10,
     "status": "ok",
     "timestamp": 1750784631623,
     "user": {
      "displayName": "Prathmesh Pandey",
      "userId": "09629498409100962573"
     },
     "user_tz": -330
    },
    "id": "YBiF1BGUxpVo",
    "outputId": "79222a51-be4c-4f85-d122-0844f25600f7"
   },
   "outputs": [
    {
     "name": "stdout",
     "output_type": "stream",
     "text": [
      "\"\n",
      "     ========REPORT========\n",
      "\n",
      "     Name:James Webs Space Telescope\n",
      "     Distance:0.01 AU\n",
      "     Orbit:sun\n",
      "\n",
      "     ======================\n",
      "     \n"
     ]
    }
   ],
   "source": [
    "def main():\n",
    "   spacecraft = {\"name\":\"James Webs Space Telescope\"}\n",
    "   spacecraft.update({\"distance\":0.01,\"orbit\":\"sun\"})\n",
    "   print(create_report(spacecraft))\n",
    "\n",
    "def create_report(spacecraft):\n",
    "     return f\"\"\"\"\n",
    "     ========REPORT========\n",
    "\n",
    "     Name:{spacecraft.get(\"name\",\"unknown\")}\n",
    "     Distance:{spacecraft.get(\"distance\",\"unknown\")} AU\n",
    "     Orbit:{spacecraft.get(\"orbit\",\"unknown\")}\n",
    "\n",
    "     ======================\n",
    "     \"\"\"\n",
    "\n",
    "main()"
   ]
  },
  {
   "cell_type": "code",
   "execution_count": null,
   "metadata": {
    "colab": {
     "base_uri": "https://localhost:8080/"
    },
    "executionInfo": {
     "elapsed": 17,
     "status": "ok",
     "timestamp": 1750865909077,
     "user": {
      "displayName": "Prathmesh Pandey",
      "userId": "09629498409100962573"
     },
     "user_tz": -330
    },
    "id": "OcuzEf-GEfHl",
    "outputId": "4947b901-2d3a-4af6-f1dd-3df4c992f7a5"
   },
   "outputs": [
    {
     "name": "stdout",
     "output_type": "stream",
     "text": [
      "Voyager 1 is 26014452924100 meters from Earth\n",
      "Voyager 2 is 21705310415200 meters from Earth\n",
      "Pioneer 10 is 12767829656000 meters from Earth\n",
      "New horizons is 9256676500600 meters from Earth\n",
      "Pioneer 11 is 7022306310800 meters from Earth\n",
      "Voyager 1 is 163 AU from Earth\n",
      "Voyager 2 is 136 AU from Earth\n",
      "Pioneer 10 is 80 AU from Earth\n",
      "New horizons is 58 AU from Earth\n",
      "Pioneer 11 is 44 AU from Earth\n"
     ]
    }
   ],
   "source": [
    "distances = {\n",
    "    \"Voyager 1\": 163,\n",
    "    \"Voyager 2\": 136,\n",
    "    \"Pioneer 10\": 80,\n",
    "    \"New horizons\": 58,\n",
    "    \"Pioneer 11\": 44\n",
    "}\n",
    "def convert(au):\n",
    "    return au * 159597870700\n",
    "\n",
    "def main():\n",
    "    for name, au in distances.items():\n",
    "        print(f\"{name} is {convert(au)} meters from Earth\")\n",
    "\n",
    "    for name in distances:\n",
    "        print(f\"{name} is {distances[name]} AU from Earth\")\n",
    "\n",
    "main()\n"
   ]
  },
  {
   "cell_type": "code",
   "execution_count": null,
   "metadata": {
    "colab": {
     "base_uri": "https://localhost:8080/"
    },
    "executionInfo": {
     "elapsed": 35977,
     "status": "ok",
     "timestamp": 1750866779951,
     "user": {
      "displayName": "Prathmesh Pandey",
      "userId": "09629498409100962573"
     },
     "user_tz": -330
    },
    "id": "tqaPGXHCvcUX",
    "outputId": "32d5c2c4-680c-49bb-c3b9-a9e9fd19c8fe"
   },
   "outputs": [
    {
     "name": "stdout",
     "output_type": "stream",
     "text": [
      "Welcome to the Spell Bee!!!\n",
      "Your letters are: A I P C R H G\n",
      "4 words left!\n",
      "Guess a word: PAIR\n",
      "Great! You scored 4 points\n",
      "3 words left!\n",
      "Guess a word: yo\n",
      "Incorrect or already guessed. Try again!\n",
      "3 words left!\n",
      "Guess a word: yo\n",
      "Incorrect or already guessed. Try again!\n",
      "3 words left!\n",
      "Guess a word: graphic\n",
      "You Won\n"
     ]
    }
   ],
   "source": [
    "WORDS = {\"PAIR\": 4, \"HAIR\": 4, \"CHAIR\": 5, \"GRAPHIC\": 7}\n",
    "\n",
    "def main():\n",
    "    print(\"Welcome to the Spell Bee!!!\")\n",
    "    print(\"Your letters are: A I P C R H G\")\n",
    "\n",
    "    while len(WORDS) > 0:\n",
    "        print(f\"{len(WORDS)} words left!\")\n",
    "        guess = input(\"Guess a word: \").upper()\n",
    "\n",
    "        if guess == \"GRAPHIC\":\n",
    "            WORDS.clear()\n",
    "            print(\"You Won\")\n",
    "            break\n",
    "\n",
    "        elif guess in WORDS:\n",
    "            points = WORDS.pop(guess)\n",
    "            print(f\"Great! You scored {points} points\")\n",
    "\n",
    "        else:\n",
    "            print(\"Incorrect or already guessed. Try again!\")\n",
    "\n",
    "main()\n"
   ]
  },
  {
   "cell_type": "code",
   "execution_count": null,
   "metadata": {
    "colab": {
     "base_uri": "https://localhost:8080/"
    },
    "executionInfo": {
     "elapsed": 16,
     "status": "ok",
     "timestamp": 1750866868275,
     "user": {
      "displayName": "Prathmesh Pandey",
      "userId": "09629498409100962573"
     },
     "user_tz": -330
    },
    "id": "DliZ6rD5v6K4",
    "outputId": "f1cb74c6-7cd2-43ac-817d-fd461d14757f"
   },
   "outputs": [
    {
     "name": "stdout",
     "output_type": "stream",
     "text": [
      "Welcome to the Spell Bee!!!\n",
      "PAIR is worth 4 points\n",
      "HAIR is worth 4 points\n",
      "CHAIR is worth 5 points\n",
      "GRAPHIC is worth 7 points\n"
     ]
    }
   ],
   "source": [
    "WORDS = {\"PAIR\": 4, \"HAIR\": 4, \"CHAIR\": 5, \"GRAPHIC\": 7}\n",
    "\n",
    "def main():\n",
    "    print(\"Welcome to the Spell Bee!!!\")\n",
    "    for word,points in WORDS.items():\n",
    "        print(f\"{word} is worth {points} points\")\n",
    "main()"
   ]
  },
  {
   "cell_type": "code",
   "execution_count": null,
   "metadata": {
    "colab": {
     "base_uri": "https://localhost:8080/"
    },
    "executionInfo": {
     "elapsed": 9049,
     "status": "ok",
     "timestamp": 1751099629875,
     "user": {
      "displayName": "Prathmesh Pandey",
      "userId": "09629498409100962573"
     },
     "user_tz": -330
    },
    "id": "MPoBanwIz-2-",
    "outputId": "5b5342bb-8ce5-4abe-a07c-4c75907cca90"
   },
   "outputs": [
    {
     "name": "stdout",
     "output_type": "stream",
     "text": [
      "What are the names of the employees? obi-wan,anakin,yoda\n",
      "\n",
      "  +-------------------------------+\n",
      "  | Dear obi-wan,              |\n",
      "  |                               |\n",
      "  | You are cordially invited to  |\n",
      "  | the emperor's party for the   |\n",
      "  | the defeat of rebel alliance  |\n",
      "  |                               |\n",
      "  | Sincerely,                    |\n",
      "  | emperor palpatine                      |\n",
      "  +-------------------------------+\n",
      "  \n",
      "\n",
      "  +-------------------------------+\n",
      "  | Dear anakin,              |\n",
      "  |                               |\n",
      "  | You are cordially invited to  |\n",
      "  | the emperor's party for the   |\n",
      "  | the defeat of rebel alliance  |\n",
      "  |                               |\n",
      "  | Sincerely,                    |\n",
      "  | emperor palpatine                      |\n",
      "  +-------------------------------+\n",
      "  \n",
      "\n",
      "  +-------------------------------+\n",
      "  | Dear yoda,              |\n",
      "  |                               |\n",
      "  | You are cordially invited to  |\n",
      "  | the emperor's party for the   |\n",
      "  | the defeat of rebel alliance  |\n",
      "  |                               |\n",
      "  | Sincerely,                    |\n",
      "  | emperor palpatine                      |\n",
      "  +-------------------------------+\n",
      "  \n"
     ]
    }
   ],
   "source": [
    "def main():\n",
    "  names = input(\"What are the names of the employees? \").split(\",\")\n",
    "  for i in range(len(names)):\n",
    "    print(write_letter(names[i],\"emperor palpatine\"))\n",
    "\n",
    "\n",
    "\n",
    "def write_letter(reciever,sender):\n",
    "  return f\"\"\"\n",
    "  +-------------------------------+\n",
    "  | Dear {reciever},              |\n",
    "  |                               |\n",
    "  | You are cordially invited to  |\n",
    "  | the emperor's party for the   |\n",
    "  | the defeat of rebel alliance  |\n",
    "  |                               |\n",
    "  | Sincerely,                    |\n",
    "  | {sender}                      |\n",
    "  +-------------------------------+\n",
    "  \"\"\"\n",
    "\n",
    "\n",
    "\n",
    "main()"
   ]
  },
  {
   "cell_type": "code",
   "execution_count": null,
   "metadata": {
    "colab": {
     "base_uri": "https://localhost:8080/"
    },
    "executionInfo": {
     "elapsed": 11,
     "status": "ok",
     "timestamp": 1751103549258,
     "user": {
      "displayName": "Prathmesh Pandey",
      "userId": "09629498409100962573"
     },
     "user_tz": -330
    },
    "id": "h9C6qZcyq_pO",
    "outputId": "ddb86d2e-3ab6-4e84-a552-d39790383ced"
   },
   "outputs": [
    {
     "name": "stdout",
     "output_type": "stream",
     "text": [
      "['yankee', 'walter', 'marco', 'joe', 'draco', 'dominic', 'dexter', 'Tuco', 'Jesse']\n"
     ]
    }
   ],
   "source": [
    "results=[\"walter\",\"dexter\",\"joe\",\"yankee\",\"dominic\"]\n",
    "\n",
    "results.append(\"Jesse\")\n",
    "results.append(\"Tuco\")\n",
    "results.remove(\"joe\")\n",
    "results.insert(0,\"joe\")\n",
    "results.extend([\"marco\",\"draco\"])\n",
    "results.sort()\n",
    "results.reverse()\n",
    "print(results)\n",
    "\n"
   ]
  },
  {
   "cell_type": "code",
   "execution_count": null,
   "metadata": {
    "colab": {
     "base_uri": "https://localhost:8080/",
     "height": 176
    },
    "collapsed": true,
    "executionInfo": {
     "elapsed": 11,
     "status": "error",
     "timestamp": 1751104059790,
     "user": {
      "displayName": "Prathmesh Pandey",
      "userId": "09629498409100962573"
     },
     "user_tz": -330
    },
    "id": "03sg7VST57nY",
    "outputId": "fc879ced-97ff-49b3-bf33-de6dffb53c52"
   },
   "outputs": [
    {
     "ename": "NameError",
     "evalue": "name 'save_counts' is not defined",
     "output_type": "error",
     "traceback": [
      "\u001b[0;31m---------------------------------------------------------------------------\u001b[0m",
      "\u001b[0;31mNameError\u001b[0m                                 Traceback (most recent call last)",
      "\u001b[0;32m/tmp/ipython-input-21-1542245591.py\u001b[0m in \u001b[0;36m<cell line: 0>\u001b[0;34m()\u001b[0m\n\u001b[1;32m     11\u001b[0m    \u001b[0;31m#   counts[word]=1\u001b[0m\u001b[0;34m\u001b[0m\u001b[0;34m\u001b[0m\u001b[0m\n\u001b[1;32m     12\u001b[0m \u001b[0;34m\u001b[0m\u001b[0m\n\u001b[0;32m---> 13\u001b[0;31m \u001b[0msave_counts\u001b[0m\u001b[0;34m(\u001b[0m\u001b[0mcounts\u001b[0m\u001b[0;34m)\u001b[0m\u001b[0;34m\u001b[0m\u001b[0;34m\u001b[0m\u001b[0m\n\u001b[0m",
      "\u001b[0;31mNameError\u001b[0m: name 'save_counts' is not defined"
     ]
    }
   ],
   "source": [
    "def main():\n",
    "  words=get_words(\"frankenstein.txt\")\n",
    "  lowercase_words=[word.lower() for word in words]\n",
    "\n",
    "  counts={word:words.count(word) for word in lowercase_words}\n",
    "  #counts={}\n",
    "  #for word in lowercase_words:\n",
    "    #if word in counts:\n",
    "    #  counts[word]+=1\n",
    "   # else:\n",
    "   #   counts[word]=1\n",
    "\n",
    "save_counts(counts)"
   ]
  },
  {
   "cell_type": "code",
   "execution_count": null,
   "metadata": {
    "id": "YSt6T0Es7QCX"
   },
   "outputs": [],
   "source": [
    "def main():\n",
    "  counts={}\n",
    "  words=get_words(\"frankenstein.txt\")\n",
    "  lowercase_words=[word.lower() for word in words if len(word)>4]\n",
    "\n",
    "  for word in lowercase_words:\n",
    "    if word in counts:\n",
    "      counts[word]+=1\n",
    "    else:\n",
    "      counts[word]=1\n",
    "\n",
    "save_counts(counts)"
   ]
  },
  {
   "cell_type": "code",
   "execution_count": null,
   "metadata": {
    "colab": {
     "base_uri": "https://localhost:8080/"
    },
    "executionInfo": {
     "elapsed": 18572,
     "status": "ok",
     "timestamp": 1751105018357,
     "user": {
      "displayName": "Prathmesh Pandey",
      "userId": "09629498409100962573"
     },
     "user_tz": -330
    },
    "id": "3mbqroOu8Z2E",
    "outputId": "b572dec2-09e2-4a0e-f9a0-54513104fbf7"
   },
   "outputs": [
    {
     "name": "stdout",
     "output_type": "stream",
     "text": [
      "action:up\n",
      "['up']\n",
      "action:left\n",
      "['up', 'left']\n",
      "action:left\n",
      "['up', 'left', 'left']\n",
      "action:down\n",
      "['up', 'left', 'left', 'down']\n",
      "action:right\n",
      "['up', 'left', 'left', 'down', 'right']\n",
      "action:exit\n"
     ]
    }
   ],
   "source": [
    "def main():\n",
    "    history =[]\n",
    "\n",
    "    while True:\n",
    "          action=input(\"action:\")\n",
    "\n",
    "          if action == \"undo\":\n",
    "              undone = history.pop()\n",
    "              print(f\"undone:{undone}\")\n",
    "          elif action == \"restart\":\n",
    "              history.clear()\n",
    "              print(\"restarted\")\n",
    "          elif action == \"exit\":\n",
    "              break\n",
    "          else:\n",
    "              history.append(action)\n",
    "              print(history)\n",
    "main()\n"
   ]
  },
  {
   "cell_type": "code",
   "execution_count": null,
   "metadata": {
    "colab": {
     "base_uri": "https://localhost:8080/"
    },
    "executionInfo": {
     "elapsed": 47,
     "status": "ok",
     "timestamp": 1751124983178,
     "user": {
      "displayName": "Prathmesh Pandey",
      "userId": "09629498409100962573"
     },
     "user_tz": -330
    },
    "id": "Pln-_KyV_djx",
    "outputId": "0166ab8f-6d6b-4392-8d49-38206bdbdfc8"
   },
   "outputs": [
    {
     "name": "stdout",
     "output_type": "stream",
     "text": [
      "2000\n",
      "617\n",
      "495\n",
      "2000\n"
     ]
    }
   ],
   "source": [
    "def main():\n",
    "  phone=\"617-495-2000\"\n",
    "  print(phone[8:12])\n",
    "  print(phone[0:3])\n",
    "  print(phone[4:7])\n",
    "  print(phone[-4:])\n",
    "main()"
   ]
  },
  {
   "cell_type": "code",
   "execution_count": null,
   "metadata": {
    "colab": {
     "base_uri": "https://localhost:8080/"
    },
    "executionInfo": {
     "elapsed": 11,
     "status": "ok",
     "timestamp": 1751129517643,
     "user": {
      "displayName": "Prathmesh Pandey",
      "userId": "09629498409100962573"
     },
     "user_tz": -330
    },
    "id": "U2R4ny3RL2QZ",
    "outputId": "be695a5d-589b-4c52-bb7f-1d5abde3e96a"
   },
   "outputs": [
    {
     "name": "stdout",
     "output_type": "stream",
     "text": [
      "latitude:42.345\n",
      "longitude:-75.346\n",
      "56bytes\n"
     ]
    }
   ],
   "source": [
    "import sys\n",
    "def main():\n",
    "  coordinates=(42.345,-75.346)\n",
    "  print(f\"latitude:{coordinates[0]}\")\n",
    "  print(f\"longitude:{coordinates[1]}\")\n",
    "\n",
    "  print(f\"{sys.getsizeof(tuple(coordinates))}bytes\")\n",
    "\n",
    "\n",
    "main()"
   ]
  },
  {
   "cell_type": "code",
   "execution_count": 5,
   "metadata": {
    "colab": {
     "base_uri": "https://localhost:8080/"
    },
    "executionInfo": {
     "elapsed": 2252,
     "status": "ok",
     "timestamp": 1751192535084,
     "user": {
      "displayName": "Prathmesh Pandey",
      "userId": "09629498409100962573"
     },
     "user_tz": -330
    },
    "id": "RkIxDFXbbUYd",
    "outputId": "3d6e35a8-964d-46c9-bce4-3b11faeb36df"
   },
   "outputs": [
    {
     "name": "stdout",
     "output_type": "stream",
     "text": [
      "camelCase: YOYO\n",
      "snake_case: yoyo\n"
     ]
    }
   ],
   "source": [
    "camel = input(\"camelCase: \")\n",
    "snake = \"\"\n",
    "\n",
    "for char in camel:\n",
    "    if char.isupper():\n",
    "        snake += \"\" + char.lower()\n",
    "    else:\n",
    "        snake += char\n",
    "\n",
    "print(\"snake_case:\", snake)\n"
   ]
  },
  {
   "cell_type": "code",
   "execution_count": null,
   "metadata": {
    "id": "iN_b9AGOOyG6"
   },
   "outputs": [],
   "source": [
    "amount_due = 50\n",
    "\n",
    "while amount_due > 0:\n",
    "    coin = int(input(\"Insert Coin: \"))\n",
    "    if coin in [5, 10, 25]:\n",
    "        amount_due -= coin\n",
    "    if amount_due > 0:\n",
    "        print(f\"Amount Due: {amount_due}\")\n",
    "    elif amount_due < 0:\n",
    "        print(f\"Change Owed: {-amount_due}\")\n",
    "    else:\n",
    "        print(\"Change Owed: 0\")\n"
   ]
  },
  {
   "cell_type": "code",
   "execution_count": null,
   "metadata": {
    "id": "pSoZ28YIRogI"
   },
   "outputs": [],
   "source": [
    "print(\"coke is worth $5 a can\")\n",
    "total=50\n",
    "print(f\"coke worth ${total}left\")"
   ]
  },
  {
   "cell_type": "code",
   "execution_count": 8,
   "metadata": {},
   "outputs": [
    {
     "name": "stdout",
     "output_type": "stream",
     "text": [
      "Output: yyyy\n"
     ]
    }
   ],
   "source": [
    "text = input(\"Input: \")\n",
    "output = \"\"\n",
    "\n",
    "for letter in text:\n",
    "    if letter.lower() not in \"aeiou\":\n",
    "        output += letter\n",
    "\n",
    "print(\"Output:\", output)\n",
    "\n"
   ]
  },
  {
   "cell_type": "code",
   "execution_count": 9,
   "metadata": {},
   "outputs": [
    {
     "name": "stdout",
     "output_type": "stream",
     "text": [
      "Invalid\n"
     ]
    }
   ],
   "source": [
    "def main():\n",
    "    plate = input(\"Plate: \")\n",
    "    if is_valid(plate):\n",
    "        print(\"Valid\")\n",
    "    else:\n",
    "        print(\"Invalid\")\n",
    "\n",
    "\n",
    "def is_valid(s):\n",
    "\n",
    "    if not (2 <= len(s) <= 6):\n",
    "        return False\n",
    "\n",
    "\n",
    "    if not (s[0].isalpha() and s[1].isalpha()):\n",
    "        return False\n",
    "\n",
    "\n",
    "    if not s.isalnum():\n",
    "        return False\n",
    "\n",
    "    number_started = False\n",
    "    for i, char in enumerate(s):\n",
    "        if char.isdigit():\n",
    "            if not number_started:\n",
    "                if char == '0':  # First number can't be 0\n",
    "                    return False\n",
    "                number_started = True\n",
    "        elif number_started:\n",
    "            # A letter appears after number → invalid\n",
    "            return False\n",
    "\n",
    "    return True\n",
    "\n",
    "\n",
    "main()\n"
   ]
  },
  {
   "cell_type": "code",
   "execution_count": null,
   "metadata": {},
   "outputs": [
    {
     "name": "stdout",
     "output_type": "stream",
     "text": [
      "Calories: 130\n"
     ]
    }
   ],
   "source": [
    "def main():\n",
    "    fruits = {\n",
    "        \"apple\": 130,\n",
    "        \"avocado\": 50,\n",
    "        \"banana\": 110,\n",
    "        \"cantaloupe\": 50,\n",
    "        \"grapefruit\": 60,\n",
    "        \"grapes\": 90,\n",
    "        \"honeydew melon\": 50,\n",
    "        \"kiwifruit\": 90,\n",
    "        \"lemon\": 15,\n",
    "        \"lime\": 20,\n",
    "        \"nectarine\": 60,\n",
    "        \"orange\": 80,\n",
    "        \"peach\": 60,\n",
    "        \"pear\": 100,\n",
    "        \"pineapple\": 50,\n",
    "        \"plums\": 70,\n",
    "        \"strawberries\": 50,\n",
    "        \"sweet cherries\": 100,\n",
    "        \"tangerine\": 50,\n",
    "        \"watermelon\": 80\n",
    "    }\n",
    "\n",
    "    fruit = input(\"Item: \").lower()\n",
    "    if fruit in fruits:\n",
    "        print(f\"Calories: {fruits[fruit]}\")\n",
    "\n",
    "\n",
    "    main()\n"
   ]
  }
 ],
 "metadata": {
  "colab": {
   "authorship_tag": "ABX9TyO/JZBXsaWqd4odudrsDxEg",
   "provenance": []
  },
  "kernelspec": {
   "display_name": "Python 3",
   "name": "python3"
  },
  "language_info": {
   "codemirror_mode": {
    "name": "ipython",
    "version": 3
   },
   "file_extension": ".py",
   "mimetype": "text/x-python",
   "name": "python",
   "nbconvert_exporter": "python",
   "pygments_lexer": "ipython3",
   "version": "3.13.5"
  }
 },
 "nbformat": 4,
 "nbformat_minor": 0
}
