{
 "cells": [
  {
   "cell_type": "markdown",
   "id": "f7ec85c7",
   "metadata": {},
   "source": [
    "Recursion,Oops,Regular Expression"
   ]
  },
  {
   "cell_type": "code",
   "execution_count": 1,
   "id": "c91d5696",
   "metadata": {},
   "outputs": [
    {
     "name": "stdout",
     "output_type": "stream",
     "text": [
      "720\n"
     ]
    }
   ],
   "source": [
    "def factorial(n):\n",
    "    if n==1:\n",
    "        return 1\n",
    "    \n",
    "    return n*factorial(n-1)\n",
    "\n",
    "\n",
    "result=factorial(int(input()))\n",
    "print(result)"
   ]
  },
  {
   "cell_type": "code",
   "execution_count": null,
   "id": "3a5e0a05",
   "metadata": {},
   "outputs": [],
   "source": [
    "class package:\n",
    "    def __init__(self,number,sender,recipient,weight):\n",
    "        self.number=number\n",
    "        self.sender=sender\n",
    "        self.recipient=recipient\n",
    "        self.weight=weight\n",
    "        \n",
    "def main():\n",
    "    package=[\n",
    "        package(number=1,sender=\"Alice\",recipient=\"Bob\",weight=10)] \n",
    "\n",
    "\n",
    "main()           "
   ]
  },
  {
   "cell_type": "code",
   "execution_count": 8,
   "id": "8b8b2f29",
   "metadata": {},
   "outputs": [
    {
     "name": "stdout",
     "output_type": "stream",
     "text": [
      "This skewer heals 4 hearts!\n",
      "This skewer heals 2 hearts!\n"
     ]
    }
   ],
   "source": [
    "class Food:\n",
    "    base_hearts=1\n",
    "\n",
    "    def __init__(self,ingredients):\n",
    "        self.ingredients=ingredients\n",
    "        self.hearts=Food.calculate_hearts(ingredients)\n",
    "\n",
    "    @classmethod    \n",
    "    def calculate_hearts(cls,ingredients):\n",
    "        hearts=cls.base_hearts\n",
    "        for ingredients in ingredients:\n",
    "            if \"hearty\" in ingredients.lower():\n",
    "                hearts+=2\n",
    "            else:    \n",
    "                hearts+=1\n",
    "        return hearts   \n",
    "    \n",
    "    @classmethod\n",
    "    def from_nothing(cls,hearts):\n",
    "        food=cls(ingredients=[])\n",
    "        food.hearts=hearts\n",
    "        return food\n",
    "    \n",
    "        \n",
    "\n",
    "def main():\n",
    "    mushroom_skewer=Food(ingredients=[\"Mushroom\",\"Hearty Mushroom\"])\n",
    "    print(f\"This skewer heals {mushroom_skewer.hearts} hearts!\")\n",
    "    mushroom_skewer=Food.from_nothing(hearts=2)\n",
    "    print(f\"This skewer heals {mushroom_skewer.hearts} hearts!\")\n",
    "        \n",
    "main()           \n"
   ]
  },
  {
   "cell_type": "code",
   "execution_count": null,
   "id": "90c691ed",
   "metadata": {},
   "outputs": [],
   "source": [
    "class packages:\n",
    "    def __init__(self,number,sender,recipient,weight):\n",
    "        self.number=number\n",
    "        self.sender=sender\n",
    "        self.recipient=recipient\n",
    "        self.weight=weight\n",
    "        \n",
    "def main():\n",
    "    packages=[\n",
    "        package(number=1,sender=\"Alice\",recipient=\"Bob\",weight=10),\n",
    "        package(number=2,sender=\"Jesse\",recipient=\"Hank\",weight=60)\n",
    "        ] \n",
    "    for package in packages:\n",
    "        print(f\"Package{package.number}\")\n",
    "\n",
    "\n",
    "main()  "
   ]
  },
  {
   "cell_type": "code",
   "execution_count": 3,
   "id": "fc09d933",
   "metadata": {},
   "outputs": [
    {
     "name": "stdout",
     "output_type": "stream",
     "text": [
      "Invalid\n"
     ]
    }
   ],
   "source": [
    "import re\n",
    "\n",
    "def main():\n",
    "    code = input(\"Hex color code: \")\n",
    "    \n",
    "    pattern = r\"^#[A-Fa-f0-9]{6}$\"\n",
    "    match = re.search(pattern, code)\n",
    "    if match:\n",
    "        print(f\"Valid match with {match.group()}\")\n",
    "    else:\n",
    "        print(\"Invalid\")  \n",
    "\n",
    "main()\n",
    "    "
   ]
  },
  {
   "cell_type": "code",
   "execution_count": 5,
   "id": "5bf7b39a",
   "metadata": {},
   "outputs": [
    {
     "name": "stdout",
     "output_type": "stream",
     "text": [
      "invalid\n"
     ]
    }
   ],
   "source": [
    "import re\n",
    "\n",
    "locations={\"+1\":\"USA & Canada\",\n",
    "           \"+62\":\"Indonesia\",\n",
    "           \"+505\":\"Nicaragua\"}\n",
    "\n",
    "def main():\n",
    "     pattern=r\"\\+d{1,3}\\d{3}-\\d{3}-\\d{4}\"\n",
    "     number=input(\"number:\")\n",
    "\n",
    "     match=re.search(pattern,number)\n",
    "     if match:\n",
    "          print(\"valid\")\n",
    "     else:\n",
    "          print(\"invalid\")\n",
    "\n",
    "\n",
    "main()          "
   ]
  }
 ],
 "metadata": {
  "kernelspec": {
   "display_name": "Python 3",
   "language": "python",
   "name": "python3"
  },
  "language_info": {
   "codemirror_mode": {
    "name": "ipython",
    "version": 3
   },
   "file_extension": ".py",
   "mimetype": "text/x-python",
   "name": "python",
   "nbconvert_exporter": "python",
   "pygments_lexer": "ipython3",
   "version": "3.13.5"
  }
 },
 "nbformat": 4,
 "nbformat_minor": 5
}
