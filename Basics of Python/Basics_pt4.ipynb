{
 "cells": [
  {
   "cell_type": "markdown",
   "id": "ebdc2674",
   "metadata": {},
   "source": [
    "Exceptions and Debugging"
   ]
  },
  {
   "cell_type": "code",
   "execution_count": 2,
   "id": "0a47fa2b",
   "metadata": {},
   "outputs": [
    {
     "name": "stdout",
     "output_type": "stream",
     "text": [
      "x is50\n"
     ]
    }
   ],
   "source": [
    "try:\n",
    "    x=int(input(\"what is x\"))\n",
    "    print(f\"x is{x}\")\n",
    "except ValueError:\n",
    "    print(\"x is not an integer\")    "
   ]
  },
  {
   "cell_type": "code",
   "execution_count": 3,
   "id": "9b1dcfb4",
   "metadata": {},
   "outputs": [
    {
     "name": "stdout",
     "output_type": "stream",
     "text": [
      "x is50\n"
     ]
    }
   ],
   "source": [
    "try:\n",
    "    x=int(input(\"what is x?\"))\n",
    "except ValueError:\n",
    "     print(\"x is not an integer\") \n",
    "else:\n",
    "     print(f\"x is{x}\")       "
   ]
  },
  {
   "cell_type": "code",
   "execution_count": 5,
   "id": "a41d61e5",
   "metadata": {},
   "outputs": [
    {
     "name": "stdout",
     "output_type": "stream",
     "text": [
      "x is50\n"
     ]
    }
   ],
   "source": [
    "while True:\n",
    "    try:\n",
    "        x=int(input(\"what is x?\"))\n",
    "    except ValueError:\n",
    "        print(\"x is not an integer\") \n",
    "    else:\n",
    "        break\n",
    "print(f\"x is{x}\")         "
   ]
  },
  {
   "cell_type": "code",
   "execution_count": null,
   "id": "0257a4a4",
   "metadata": {},
   "outputs": [
    {
     "name": "stdout",
     "output_type": "stream",
     "text": [
      "x is 50\n"
     ]
    }
   ],
   "source": [
    "def get_int():\n",
    "    while True:\n",
    "        try:\n",
    "            x=int(input(\"enter number\"))\n",
    "        except ValueError:\n",
    "            print(\"not integer\")\n",
    "        else:\n",
    "            return x\n",
    "def main():\n",
    "        x=get_int()\n",
    "        print(f\"x is {x}\")\n",
    "main()        "
   ]
  },
  {
   "cell_type": "code",
   "execution_count": 7,
   "id": "74f7e64e",
   "metadata": {},
   "outputs": [
    {
     "name": "stdout",
     "output_type": "stream",
     "text": [
      "x is 50\n"
     ]
    }
   ],
   "source": [
    "def get_int():\n",
    "    while True:\n",
    "        try:\n",
    "            return int(input(\"enter number\"))\n",
    "        except ValueError:\n",
    "            pass\n",
    "        \n",
    "def main():\n",
    "        x=get_int()\n",
    "        print(f\"x is {x}\")\n",
    "main() "
   ]
  },
  {
   "cell_type": "code",
   "execution_count": 11,
   "id": "501223a1",
   "metadata": {},
   "outputs": [
    {
     "name": "stdout",
     "output_type": "stream",
     "text": [
      "#\n",
      "##\n",
      "###\n",
      "####\n",
      "#####\n"
     ]
    }
   ],
   "source": [
    "def main():\n",
    "    height = int(input(\"height\"))\n",
    "    pyramid(height)\n",
    "\n",
    "\n",
    "def pyramid(n):\n",
    "    for i in range(n):\n",
    "        print(\"#\"*(i+1))\n",
    "\n",
    "\n",
    "main()            "
   ]
  }
 ],
 "metadata": {
  "kernelspec": {
   "display_name": "Python 3",
   "language": "python",
   "name": "python3"
  },
  "language_info": {
   "codemirror_mode": {
    "name": "ipython",
    "version": 3
   },
   "file_extension": ".py",
   "mimetype": "text/x-python",
   "name": "python",
   "nbconvert_exporter": "python",
   "pygments_lexer": "ipython3",
   "version": "3.13.5"
  }
 },
 "nbformat": 4,
 "nbformat_minor": 5
}
